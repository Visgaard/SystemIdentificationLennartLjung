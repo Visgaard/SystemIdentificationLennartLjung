{
 "cells": [
  {
   "cell_type": "markdown",
   "id": "341a4d8a",
   "metadata": {},
   "source": [
    "# System Identification by Lennart Ljung"
   ]
  },
  {
   "cell_type": "markdown",
   "id": "2f98b2cf",
   "metadata": {},
   "source": [
    "In this Jupyter Notebook we will discover the ideas of System Identification. The Notebook is written by following along the book System Identification by Lennart Ljung (1st edition). Here, we will learn the knowledge needed in order to be able to apply system identification in real life. The book will be followed chronologically and Python is utilized to clarify some of the ideas."
   ]
  },
  {
   "cell_type": "markdown",
   "id": "5aed7127",
   "metadata": {},
   "source": [
    "# Chapter 1"
   ]
  },
  {
   "cell_type": "markdown",
   "id": "6a28a2ba",
   "metadata": {},
   "source": [
    "For starters we want to develop properties between the input to a system and the output of a system. In general, for linear time-invariant and casual systems, where we assume the input is constant over a sampling period T, the output can be fully characterized by its impulse response "
   ]
  },
  {
   "cell_type": "markdown",
   "id": "9a7acc8c",
   "metadata": {},
   "source": [
    "$y(t) = \\sum_{k=1}^{\\infty}g(k)u(t-k), \\quad t = 0,1,2,\\dots$"
   ]
  },
  {
   "cell_type": "markdown",
   "id": "4080a593",
   "metadata": {},
   "source": [
    "Where we use t to enumerate the sampling instants. Obviously, k does not naturally go to infinity, but is usually finite. Let us discover through an example. Normally we do not know what g(k) is, but for illustration purposes, we can assume a system for now. Let us suppose:"
   ]
  },
  {
   "cell_type": "markdown",
   "id": "5b7dd03a",
   "metadata": {},
   "source": [
    "$g(1) = 1 \\\\ $ \n",
    "$g(2) = 2 \\\\ $\n",
    "$g(3) = 0 \\\\ $\n",
    "$g(4) = 1 \\\\ $"
   ]
  },
  {
   "cell_type": "markdown",
   "id": "764cce95",
   "metadata": {},
   "source": [
    "With this information, we can simulate the system response $y(t)$ for any arbitrary input sequence $u(t)$. "
   ]
  },
  {
   "cell_type": "code",
   "execution_count": 93,
   "id": "3a873a23",
   "metadata": {},
   "outputs": [
    {
     "data": {
      "image/png": "[encoded data removed]",
      "text/plain": [
       "<Figure size 864x576 with 2 Axes>"
      ]
     },
     "metadata": {
      "needs_background": "light"
     },
     "output_type": "display_data"
    }
   ],
   "source": [
    "import numpy as np \n",
    "import matplotlib.pyplot as plt #for plots\n",
    "from matplotlib.patches import StepPatch #for stair plots\n",
    "#from bokeh.layouts import column\n",
    "#from bokeh.models import ColumnDataSource, Slider, CustomJS\n",
    "#from bokeh.plotting import figure, output_file, show\n",
    "\n",
    "g = [1, 2, 0, 1]\n",
    "u = [1, 1] #change to arbitrary input\n",
    "\n",
    "def impulse_response(g,u):\n",
    "    #calculate the impulse response based on definition \n",
    "    #page 15 eq. 2.6 \n",
    "    \n",
    "    len_g = len(g)\n",
    "    len_u = len(u)\n",
    "    \n",
    "    y = []\n",
    "    for i in range(len_g+len_u+1):\n",
    "        y_temp = 0\n",
    "        for k in range(len_g):\n",
    "            if (i-k>=0) & (i-k <= len_u-1):\n",
    "                y_temp += g[k]*u[i-k]\n",
    "        y.append(y_temp)\n",
    "    return y\n",
    "\n",
    "y = impulse_response(g,u) #get response\n",
    "\n",
    "def MatchLengths(LongVec, InVec):\n",
    "    #pad InVec with zeros to match length of LongVec for easier plotting.\n",
    "    \n",
    "    lenLongVec = len(LongVec)\n",
    "    shape = np.shape(InVec)\n",
    "    padded_array = np.zeros((lenLongVec))\n",
    "    padded_array[0:shape[0]] = InVec\n",
    "    \n",
    "    return padded_array\n",
    "\n",
    "uvec = MatchLengths(y,u) #input padded with zeros\n",
    "timevec = np.linspace(0,len(y)-1,len(y)) #create sampling instants\n",
    "\n",
    "fig, axs = plt.subplots(2,1,figsize=(12,8))\n",
    "axs[0].plot(timevec, uvec, drawstyle='steps-post')\n",
    "axs[0].set_title('Input',fontsize=20)\n",
    "axs[1].plot(timevec, y, drawstyle='steps-post',color='red')\n",
    "axs[1].set_title('Output',fontsize=20)\n",
    "\n",
    "for ax in axs:\n",
    "    ax.grid(axis='x',color='0.95')\n",
    "    ax.grid(axis='y',color='0.95')\n",
    "    ax.set_ylim([min(min(uvec),min(y))-1, max(max(uvec),max(y))+1]) \n",
    "    \n",
    "#Up next: Create slider to input?\n"
   ]
  },
  {
   "cell_type": "code",
   "execution_count": null,
   "id": "20dbef2f",
   "metadata": {},
   "outputs": [],
   "source": []
  }
 ],
 "metadata": {
  "kernelspec": {
   "display_name": "Python 3 (ipykernel)",
   "language": "python",
   "name": "python3"
  },
  "language_info": {
   "codemirror_mode": {
    "name": "ipython",
    "version": 3
   },
   "file_extension": ".py",
   "mimetype": "text/x-python",
   "name": "python",
   "nbconvert_exporter": "python",
   "pygments_lexer": "ipython3",
   "version": "3.8.12"
  }
 },
 "nbformat": 4,
 "nbformat_minor": 5
}
