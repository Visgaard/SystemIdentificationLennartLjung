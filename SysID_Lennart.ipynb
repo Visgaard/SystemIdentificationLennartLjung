{
 "cells": [
  {
   "cell_type": "markdown",
   "id": "341a4d8a",
   "metadata": {},
   "source": [
    "# System Identification by Lennart Ljung"
   ]
  },
  {
   "cell_type": "markdown",
   "id": "2f98b2cf",
   "metadata": {},
   "source": [
    "In this Jupyter Notebook we will discover the ideas of System Identification. The Notebook is written by following along the book System Identification by Lennart Ljung (1st edition). Here, we will learn the knowledge needed in order to be able to apply system identification in real life. The book will be followed chronologically and Python is utilized to clarify some of the ideas."
   ]
  },
  {
   "cell_type": "code",
   "execution_count": null,
   "id": "bee89271",
   "metadata": {},
   "outputs": [],
   "source": []
  }
 ],
 "metadata": {
  "kernelspec": {
   "display_name": "Python 3 (ipykernel)",
   "language": "python",
   "name": "python3"
  },
  "language_info": {
   "codemirror_mode": {
    "name": "ipython",
    "version": 3
   },
   "file_extension": ".py",
   "mimetype": "text/x-python",
   "name": "python",
   "nbconvert_exporter": "python",
   "pygments_lexer": "ipython3",
   "version": "3.8.12"
  }
 },
 "nbformat": 4,
 "nbformat_minor": 5
}
