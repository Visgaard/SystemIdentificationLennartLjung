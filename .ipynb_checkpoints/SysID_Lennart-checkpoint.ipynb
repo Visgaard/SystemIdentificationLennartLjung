{
 "cells": [
  {
   "cell_type": "markdown",
   "id": "341a4d8a",
   "metadata": {},
   "source": [
    "# System Identification by Lennart Ljung"
   ]
  },
  {
   "cell_type": "markdown",
   "id": "2f98b2cf",
   "metadata": {},
   "source": [
    "In this Jupyter Notebook we will discover the ideas of System Identification. The Notebook is written by following along the book System Identification by Lennart Ljung (1st edition). Here, we will learn the knowledge needed in order to be able to apply system identification in real life. The book will be followed chronologically and Python is utilized to clarify some of the ideas."
   ]
  },
  {
   "cell_type": "markdown",
   "id": "5aed7127",
   "metadata": {},
   "source": [
    "# Chapter 1"
   ]
  },
  {
   "cell_type": "markdown",
   "id": "6a28a2ba",
   "metadata": {},
   "source": [
    "For starters we want to develop properties between the input to a system and the output of a system. In general, for linear time-invariant and casual systems, where we assume the input is constant over a sampling period T, the output can be fully characterized by its impulse response "
   ]
  },
  {
   "cell_type": "markdown",
   "id": "9a7acc8c",
   "metadata": {},
   "source": [
    "$y(t) = \\sum_{k=0}^{\\infty}g(k)u(t-k), \\quad t = 0,1,2,\\dots$"
   ]
  },
  {
   "cell_type": "markdown",
   "id": "4080a593",
   "metadata": {},
   "source": [
    "Where we use t to enumerate the sampling instants. Obviously, k does not naturally go to infinity, but is usually finite. Let us discover through an example. Normally we do not know what g(k) is, but for illustration purposes, we can assume a system for now. Let us suppose:"
   ]
  },
  {
   "cell_type": "markdown",
   "id": "5b7dd03a",
   "metadata": {},
   "source": [
    "$g(0) = 0 \\\\ $\n",
    "$g(1) = 1 \\\\ $ \n",
    "$g(2) = 2 \\\\ $\n",
    "$g(3) = 0 \\\\ $\n",
    "$g(4) = 1 \\\\ $\n",
    "$g(k) = 0, \\quad k>4$"
   ]
  },
  {
   "cell_type": "markdown",
   "id": "764cce95",
   "metadata": {},
   "source": [
    "We let g(0) = 0 since we don't really have \"direct transmission\" from an input to an output when it comes to dynamical systems. With this information, we can simulate the system response $y(t)$ for any arbitrary input sequence $u(t)$. "
   ]
  },
  {
   "cell_type": "code",
   "execution_count": 75,
   "id": "3a873a23",
   "metadata": {
    "scrolled": false
   },
   "outputs": [
    {
     "data": {
      "image/png": "[encoded data removed]",
      "text/plain": [
       "<Figure size 864x576 with 2 Axes>"
      ]
     },
     "metadata": {
      "needs_background": "light"
     },
     "output_type": "display_data"
    }
   ],
   "source": [
    "import numpy as np \n",
    "import matplotlib.pyplot as plt #for plots\n",
    "from matplotlib.patches import StepPatch #for stair plots\n",
    "\n",
    "g = np.array([0, 1, 2, 0, 1])\n",
    "u = np.array([1]) #change to arbitrary input\n",
    "\n",
    "def impulse_response(g,u):\n",
    "    #calculate the impulse response based on definition \n",
    "    #page 15 eq. 2.6 (convolution)\n",
    "    \n",
    "    len_g = len(g)\n",
    "    len_u = len(u)\n",
    "    \n",
    "    y = []\n",
    "    for i in range(len_g+len_u-1):\n",
    "        y_temp = 0\n",
    "        for k in range(len_g): \n",
    "            if (i-k>=0) & (i-k <= len_u-1):\n",
    "                y_temp += g[k]*u[i-k]\n",
    "        y.append(y_temp)\n",
    "    return y\n",
    "\n",
    "y = impulse_response(g,u) #get response\n",
    "\n",
    "#The above function impulse_response(g,u) may be calculated using vectorized functions from Numpy\n",
    "#We use assert() to check if something we expect to be true (or false) is not. Great way to debug code.\n",
    "assert(np.array_equal(impulse_response(g,u),np.convolve(g,u))) #check if impulse_response is same as np.convolve\n",
    "\n",
    "def match_lengths(long_vec, in_vec):\n",
    "    #pad InVec with zeros to match length of LongVec for easier plotting.\n",
    "    \n",
    "    len_long_vec = len(long_vec)\n",
    "    shape = np.shape(in_vec)\n",
    "    padded_array = np.zeros((len_long_vec))\n",
    "    padded_array[0:shape[0]] = in_vec\n",
    "    \n",
    "    return padded_array\n",
    "\n",
    "uvec = match_lengths(y,u) #input padded with zeros\n",
    "timevec = np.linspace(0,len(y)-1,len(y)) #create sampling instants\n",
    "\n",
    "fig, axs = plt.subplots(2,1,figsize=(12,8))\n",
    "axs[0].stem(timevec,uvec)\n",
    "axs[1].stem(timevec,y)\n",
    "\n",
    "axs[0].set_title('Input',fontsize=20)\n",
    "axs[1].set_title('Output',fontsize=20)\n",
    "axs[1].set_xlabel('Sampling instant t',fontsize=14)\n",
    "\n",
    "for ax in axs:\n",
    "    ax.grid(axis='x',color='0.95')\n",
    "    ax.grid(axis='y',color='0.95')\n",
    "    ax.set_ylim([min(min(uvec),min(y))-1, max(max(uvec),max(y))+1]) \n",
    "    \n",
    "    \n"
   ]
  },
  {
   "cell_type": "markdown",
   "id": "a712f783",
   "metadata": {},
   "source": [
    "The above description of the output of the system is great in an idealized world, but it's almost never true that we have perfect measurement of the output. There can be a myriad of reasons including disturbances and noise which we typically cover when describing dynamic systems. Disturbance could be uncontrolled input to a system such as wind turbulence on a wind turbine and noise could be noisy measurements in a sensor. We can lump these disturbances and noise into an additive term to the output\n",
    "\n",
    "$y(t) = \\sum_{k=0}^{\\infty}g(k)u(t-k) + v(t), \\quad t = 0,1,2,\\dots$\n",
    "\n",
    "Information about v(t) is usually not known beforehand, but we can make qualified estimations of future disturbances with knowledge of present data. In this sense, we employ a probabilistic framework to describe them. We define\n",
    "\n",
    "$v(t) = \\sum_{k=0}^{\\infty}h(k)e(t-k), \\quad t = 0,1,2,\\dots$\n",
    "\n",
    "Where e(t) are independent and identically distributed (abbreviated as i.i.d) with certain probability density functions."
   ]
  },
  {
   "cell_type": "markdown",
   "id": "8d52070e",
   "metadata": {},
   "source": [
    "# Notes\n",
    "Nice documentation on various system identification principles and techniques. Nevermind the LABView implementation.\n",
    "https://documentation.help/NI-SystemIdentification/\n",
    "\n",
    "Below contains data-set for complex nonlinear systems. \n",
    "https://www.nonlinearbenchmark.org/ \n",
    "\n",
    "SISO data-set below from the Arduino Temperature Control Lab. Thanks to Bill Tubbs for the suggestion.   \n",
    "https://apmonitor.com/pdc/uploads/Main/pipeline_data.txt"
   ]
  },
  {
   "cell_type": "code",
   "execution_count": null,
   "id": "da7a9377",
   "metadata": {},
   "outputs": [],
   "source": []
  }
 ],
 "metadata": {
  "kernelspec": {
   "display_name": "Python 3 (ipykernel)",
   "language": "python",
   "name": "python3"
  },
  "language_info": {
   "codemirror_mode": {
    "name": "ipython",
    "version": 3
   },
   "file_extension": ".py",
   "mimetype": "text/x-python",
   "name": "python",
   "nbconvert_exporter": "python",
   "pygments_lexer": "ipython3",
   "version": "3.8.12"
  }
 },
 "nbformat": 4,
 "nbformat_minor": 5
}
